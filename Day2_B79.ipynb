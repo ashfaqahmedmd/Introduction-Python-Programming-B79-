{
 "cells": [
  {
   "cell_type": "code",
   "execution_count": null,
   "id": "15a9f86c",
   "metadata": {},
   "outputs": [],
   "source": [
    "Introduction to Python Programming:"
   ]
  },
  {
   "cell_type": "code",
   "execution_count": null,
   "id": "0b44e874",
   "metadata": {},
   "outputs": [],
   "source": [
    "Concept of variables in python , like x, y, z etc."
   ]
  },
  {
   "cell_type": "code",
   "execution_count": null,
   "id": "c56aa3de",
   "metadata": {},
   "outputs": [],
   "source": [
    "For Example:"
   ]
  },
  {
   "cell_type": "code",
   "execution_count": null,
   "id": "a7b7c62a",
   "metadata": {},
   "outputs": [],
   "source": [
    "x = 2\n",
    "y = 3"
   ]
  },
  {
   "cell_type": "code",
   "execution_count": 5,
   "id": "1a8e1d03",
   "metadata": {},
   "outputs": [
    {
     "name": "stdout",
     "output_type": "stream",
     "text": [
      "5\n"
     ]
    }
   ],
   "source": [
    "z = x+y\n",
    "print(z)"
   ]
  },
  {
   "cell_type": "code",
   "execution_count": null,
   "id": "447c281b",
   "metadata": {},
   "outputs": [],
   "source": [
    "x=2\n",
    "y=3"
   ]
  },
  {
   "cell_type": "code",
   "execution_count": 6,
   "id": "12a46cac",
   "metadata": {},
   "outputs": [
    {
     "name": "stdout",
     "output_type": "stream",
     "text": [
      "5\n"
     ]
    }
   ],
   "source": [
    "z=x+y\n",
    "print(z)"
   ]
  },
  {
   "cell_type": "code",
   "execution_count": 7,
   "id": "659174bf",
   "metadata": {},
   "outputs": [
    {
     "name": "stdout",
     "output_type": "stream",
     "text": [
      "5\n"
     ]
    }
   ],
   "source": [
    "x=2\n",
    "y=3\n",
    "z=x+y\n",
    "print(z)"
   ]
  },
  {
   "cell_type": "code",
   "execution_count": null,
   "id": "f0e3393b",
   "metadata": {},
   "outputs": [],
   "source": [
    "Rules for declaring the variables:"
   ]
  },
  {
   "cell_type": "code",
   "execution_count": null,
   "id": "f0798159",
   "metadata": {},
   "outputs": [],
   "source": [
    "There are three primary rules to declare the variables,"
   ]
  },
  {
   "cell_type": "code",
   "execution_count": null,
   "id": "2899714e",
   "metadata": {},
   "outputs": [],
   "source": [
    "Rule 1: No namespace while declaring the variables : Meaning there souldnt be any space between two words, Example"
   ]
  },
  {
   "cell_type": "code",
   "execution_count": null,
   "id": "2a941e13",
   "metadata": {},
   "outputs": [],
   "source": [
    "My Name=Ashfaq"
   ]
  },
  {
   "cell_type": "code",
   "execution_count": 9,
   "id": "a4a8fd97",
   "metadata": {},
   "outputs": [
    {
     "ename": "SyntaxError",
     "evalue": "invalid syntax. Perhaps you forgot a comma? (2664823721.py, line 1)",
     "output_type": "error",
     "traceback": [
      "\u001b[1;36m  Cell \u001b[1;32mIn[9], line 1\u001b[1;36m\u001b[0m\n\u001b[1;33m    print(My Name)\u001b[0m\n\u001b[1;37m          ^\u001b[0m\n\u001b[1;31mSyntaxError\u001b[0m\u001b[1;31m:\u001b[0m invalid syntax. Perhaps you forgot a comma?\n"
     ]
    }
   ],
   "source": [
    "print(My Name)"
   ]
  },
  {
   "cell_type": "code",
   "execution_count": 16,
   "id": "a2ce4cd9",
   "metadata": {},
   "outputs": [],
   "source": [
    "myname = 'Ashfaq'"
   ]
  },
  {
   "cell_type": "code",
   "execution_count": 17,
   "id": "63f25d0a",
   "metadata": {},
   "outputs": [
    {
     "name": "stdout",
     "output_type": "stream",
     "text": [
      "Ashfaq\n"
     ]
    }
   ],
   "source": [
    "print(myname)"
   ]
  },
  {
   "cell_type": "code",
   "execution_count": 18,
   "id": "e9601c5b",
   "metadata": {},
   "outputs": [
    {
     "ename": "NameError",
     "evalue": "name 'Ashfaq' is not defined",
     "output_type": "error",
     "traceback": [
      "\u001b[1;31m---------------------------------------------------------------------------\u001b[0m",
      "\u001b[1;31mNameError\u001b[0m                                 Traceback (most recent call last)",
      "Cell \u001b[1;32mIn[18], line 1\u001b[0m\n\u001b[1;32m----> 1\u001b[0m myname\u001b[38;5;241m=\u001b[39m\u001b[43mAshfaq\u001b[49m\n",
      "\u001b[1;31mNameError\u001b[0m: name 'Ashfaq' is not defined"
     ]
    }
   ],
   "source": [
    "myname=Ashfaq"
   ]
  },
  {
   "cell_type": "code",
   "execution_count": 19,
   "id": "eb6d7d64",
   "metadata": {},
   "outputs": [],
   "source": [
    "myname='ashfaq'"
   ]
  },
  {
   "cell_type": "code",
   "execution_count": 20,
   "id": "7da55e69",
   "metadata": {},
   "outputs": [
    {
     "name": "stdout",
     "output_type": "stream",
     "text": [
      "ashfaq\n"
     ]
    }
   ],
   "source": [
    "print(myname)"
   ]
  },
  {
   "cell_type": "code",
   "execution_count": null,
   "id": "9eb0d63a",
   "metadata": {},
   "outputs": [],
   "source": [
    "Rule no 2: A variable name should not start with number: but a variable can end with number or a number can be in between variable , for example,"
   ]
  },
  {
   "cell_type": "code",
   "execution_count": 23,
   "id": "82912c35",
   "metadata": {},
   "outputs": [
    {
     "ename": "SyntaxError",
     "evalue": "invalid decimal literal (3467878951.py, line 1)",
     "output_type": "error",
     "traceback": [
      "\u001b[1;36m  Cell \u001b[1;32mIn[23], line 1\u001b[1;36m\u001b[0m\n\u001b[1;33m    1name='ashfaq'\u001b[0m\n\u001b[1;37m    ^\u001b[0m\n\u001b[1;31mSyntaxError\u001b[0m\u001b[1;31m:\u001b[0m invalid decimal literal\n"
     ]
    }
   ],
   "source": [
    "1name='ashfaq'\n",
    "print(1name)"
   ]
  },
  {
   "cell_type": "code",
   "execution_count": 25,
   "id": "0e32f551",
   "metadata": {},
   "outputs": [
    {
     "name": "stdout",
     "output_type": "stream",
     "text": [
      "ashfaq\n"
     ]
    }
   ],
   "source": [
    "name1='ashfaq'\n",
    "print(name1)"
   ]
  },
  {
   "cell_type": "code",
   "execution_count": 26,
   "id": "93f06f37",
   "metadata": {},
   "outputs": [
    {
     "name": "stdout",
     "output_type": "stream",
     "text": [
      "ashfaq\n"
     ]
    }
   ],
   "source": [
    "nam1e='ashfaq'\n",
    "print(nam1e)"
   ]
  },
  {
   "cell_type": "code",
   "execution_count": null,
   "id": "6ed42f69",
   "metadata": {},
   "outputs": [],
   "source": [
    "Rule no 3: A variable name should not contain any special characters like, @, $, %, & , * etc: you will get syntax error when ever or where ever you use special characters, like infront of the variable, in between or at the end still you get sysntax error: for example,"
   ]
  },
  {
   "cell_type": "code",
   "execution_count": 27,
   "id": "5b005ac5",
   "metadata": {},
   "outputs": [
    {
     "ename": "SyntaxError",
     "evalue": "invalid syntax (3210157719.py, line 2)",
     "output_type": "error",
     "traceback": [
      "\u001b[1;36m  Cell \u001b[1;32mIn[27], line 2\u001b[1;36m\u001b[0m\n\u001b[1;33m    print(name@)\u001b[0m\n\u001b[1;37m               ^\u001b[0m\n\u001b[1;31mSyntaxError\u001b[0m\u001b[1;31m:\u001b[0m invalid syntax\n"
     ]
    }
   ],
   "source": [
    "name@='ashfaq'\n",
    "print(name@)"
   ]
  },
  {
   "cell_type": "code",
   "execution_count": 28,
   "id": "b5b6bfa3",
   "metadata": {},
   "outputs": [
    {
     "ename": "SyntaxError",
     "evalue": "cannot assign to expression here. Maybe you meant '==' instead of '='? (665280725.py, line 1)",
     "output_type": "error",
     "traceback": [
      "\u001b[1;36m  Cell \u001b[1;32mIn[28], line 1\u001b[1;36m\u001b[0m\n\u001b[1;33m    nam@e='ashfaq'\u001b[0m\n\u001b[1;37m    ^\u001b[0m\n\u001b[1;31mSyntaxError\u001b[0m\u001b[1;31m:\u001b[0m cannot assign to expression here. Maybe you meant '==' instead of '='?\n"
     ]
    }
   ],
   "source": [
    "nam@e='ashfaq'\n",
    "print(nam@e)"
   ]
  },
  {
   "cell_type": "code",
   "execution_count": 29,
   "id": "2046d560",
   "metadata": {},
   "outputs": [
    {
     "ename": "SyntaxError",
     "evalue": "invalid syntax. Maybe you meant '==' or ':=' instead of '='? (348751708.py, line 1)",
     "output_type": "error",
     "traceback": [
      "\u001b[1;36m  Cell \u001b[1;32mIn[29], line 1\u001b[1;36m\u001b[0m\n\u001b[1;33m    @name='ashfaq'\u001b[0m\n\u001b[1;37m     ^\u001b[0m\n\u001b[1;31mSyntaxError\u001b[0m\u001b[1;31m:\u001b[0m invalid syntax. Maybe you meant '==' or ':=' instead of '='?\n"
     ]
    }
   ],
   "source": [
    "@name='ashfaq'\n",
    "print(@name)"
   ]
  },
  {
   "cell_type": "code",
   "execution_count": null,
   "id": "61607be8",
   "metadata": {},
   "outputs": [],
   "source": [
    "Next: Introduction to data types in Python:"
   ]
  },
  {
   "cell_type": "code",
   "execution_count": null,
   "id": "414fe388",
   "metadata": {},
   "outputs": [],
   "source": [
    "There are different data types like,\n",
    "1. String---short form--->str \n",
    "2. Numbers--> it can be integers, float etc---> Integers---short form-->(int) ,float(decimals like dot.)--short form--> float\n",
    "3. lists---short form---> list\n",
    "4. Tuples-----short form----> tuple\n",
    "5. Dictionaries-----short form---->dict"
   ]
  },
  {
   "cell_type": "code",
   "execution_count": null,
   "id": "c9b1ce99",
   "metadata": {},
   "outputs": [],
   "source": [
    "Classification of data types: there are two types,\n",
    "1. Mutable data types: Mean which we can able to edit/alter\n",
    "2. Immutable data types: Mean which we can not able to edit/alter\n",
    "    "
   ]
  },
  {
   "cell_type": "code",
   "execution_count": null,
   "id": "3f5cf255",
   "metadata": {},
   "outputs": [],
   "source": [
    "Introduction to string data types:\n",
    "Defination: A string is a series of characters declared in quotes ('' & \"\").\n",
    "Classification: It is classified as an immutable data type.\n",
    "how to delcare the string:\n",
    "    1. Single quote.\n",
    "    2. Double quote.\n",
    "For example,"
   ]
  },
  {
   "cell_type": "code",
   "execution_count": 30,
   "id": "f7613d43",
   "metadata": {},
   "outputs": [
    {
     "name": "stdout",
     "output_type": "stream",
     "text": [
      "ashfaq\n"
     ]
    }
   ],
   "source": [
    "Name='ashfaq' # Single quote\n",
    "print(Name)"
   ]
  },
  {
   "cell_type": "code",
   "execution_count": 31,
   "id": "f72e3783",
   "metadata": {},
   "outputs": [
    {
     "ename": "NameError",
     "evalue": "name 'Print' is not defined",
     "output_type": "error",
     "traceback": [
      "\u001b[1;31m---------------------------------------------------------------------------\u001b[0m",
      "\u001b[1;31mNameError\u001b[0m                                 Traceback (most recent call last)",
      "Cell \u001b[1;32mIn[31], line 2\u001b[0m\n\u001b[0;32m      1\u001b[0m name\u001b[38;5;241m=\u001b[39m\u001b[38;5;124m\"\u001b[39m\u001b[38;5;124mashfaq\u001b[39m\u001b[38;5;124m\"\u001b[39m\n\u001b[1;32m----> 2\u001b[0m \u001b[43mPrint\u001b[49m(name)\n",
      "\u001b[1;31mNameError\u001b[0m: name 'Print' is not defined"
     ]
    }
   ],
   "source": [
    "name=\"ashfaq\"  # Double quote\n",
    "Print(name)"
   ]
  },
  {
   "cell_type": "code",
   "execution_count": 32,
   "id": "988ad409",
   "metadata": {},
   "outputs": [
    {
     "name": "stdout",
     "output_type": "stream",
     "text": [
      "ashfaq\n"
     ]
    }
   ],
   "source": [
    "name=\"ashfaq\"\n",
    "print(name)"
   ]
  },
  {
   "cell_type": "code",
   "execution_count": null,
   "id": "0a0ab030",
   "metadata": {},
   "outputs": [],
   "source": [
    "print funcion can not start with capital letter'P' it should be small letter."
   ]
  },
  {
   "cell_type": "code",
   "execution_count": null,
   "id": "0d41007e",
   "metadata": {},
   "outputs": [],
   "source": [
    "To find out it is a string or not we can use string method,\n",
    "understanding the string methods:"
   ]
  },
  {
   "cell_type": "code",
   "execution_count": 33,
   "id": "0a0645b4",
   "metadata": {},
   "outputs": [
    {
     "data": {
      "text/plain": [
       "str"
      ]
     },
     "execution_count": 33,
     "metadata": {},
     "output_type": "execute_result"
    }
   ],
   "source": [
    "type(name)"
   ]
  },
  {
   "cell_type": "code",
   "execution_count": 34,
   "id": "4d02160f",
   "metadata": {},
   "outputs": [
    {
     "ename": "NameError",
     "evalue": "name 'ashfaq' is not defined",
     "output_type": "error",
     "traceback": [
      "\u001b[1;31m---------------------------------------------------------------------------\u001b[0m",
      "\u001b[1;31mNameError\u001b[0m                                 Traceback (most recent call last)",
      "Cell \u001b[1;32mIn[34], line 1\u001b[0m\n\u001b[1;32m----> 1\u001b[0m \u001b[38;5;28mtype\u001b[39m(\u001b[43mashfaq\u001b[49m)\n",
      "\u001b[1;31mNameError\u001b[0m: name 'ashfaq' is not defined"
     ]
    }
   ],
   "source": [
    "type(ashfaq)"
   ]
  },
  {
   "cell_type": "code",
   "execution_count": 35,
   "id": "bb43cd49",
   "metadata": {},
   "outputs": [
    {
     "data": {
      "text/plain": [
       "str"
      ]
     },
     "execution_count": 35,
     "metadata": {},
     "output_type": "execute_result"
    }
   ],
   "source": [
    "type('ashfaq')"
   ]
  },
  {
   "cell_type": "code",
   "execution_count": null,
   "id": "5c5c502d",
   "metadata": {},
   "outputs": [],
   "source": [
    "by using type function we can find whether it is a string or not."
   ]
  },
  {
   "cell_type": "code",
   "execution_count": null,
   "id": "e6602983",
   "metadata": {},
   "outputs": [],
   "source": [
    "Next, by using programming or method we can convert the format, like converting the first letter of word in to capital letter, or converting the whole word to capital letter or small letter: for example,"
   ]
  },
  {
   "cell_type": "code",
   "execution_count": null,
   "id": "c10d655e",
   "metadata": {},
   "outputs": [],
   "source": [
    "Converting first letter to capital:"
   ]
  },
  {
   "cell_type": "code",
   "execution_count": 36,
   "id": "8ac1181a",
   "metadata": {},
   "outputs": [
    {
     "name": "stdout",
     "output_type": "stream",
     "text": [
      "ashfaq ahmed\n"
     ]
    }
   ],
   "source": [
    "fullname='ashfaq ahmed'\n",
    "print(fullname)"
   ]
  },
  {
   "cell_type": "code",
   "execution_count": 37,
   "id": "64305b6f",
   "metadata": {},
   "outputs": [
    {
     "name": "stdout",
     "output_type": "stream",
     "text": [
      "Ashfaq Ahmed\n"
     ]
    }
   ],
   "source": [
    "print(fullname.title())"
   ]
  },
  {
   "cell_type": "code",
   "execution_count": null,
   "id": "2f7e552e",
   "metadata": {},
   "outputs": [],
   "source": [
    "here .title() is use to convert first letter of word/character to capital"
   ]
  },
  {
   "cell_type": "code",
   "execution_count": null,
   "id": "aec3c524",
   "metadata": {},
   "outputs": [],
   "source": [
    "Converting whole characters/word to captial letter:"
   ]
  },
  {
   "cell_type": "code",
   "execution_count": 38,
   "id": "fcbb2818",
   "metadata": {},
   "outputs": [
    {
     "name": "stdout",
     "output_type": "stream",
     "text": [
      "ASHFAQ AHMED\n"
     ]
    }
   ],
   "source": [
    "print(fullname.upper())"
   ]
  },
  {
   "cell_type": "code",
   "execution_count": null,
   "id": "16f8daf1",
   "metadata": {},
   "outputs": [],
   "source": [
    ".upper() is used to change the whole name/charcters to capital"
   ]
  },
  {
   "cell_type": "code",
   "execution_count": null,
   "id": "36fba17c",
   "metadata": {},
   "outputs": [],
   "source": [
    "Converting whole characters/word to small letter:"
   ]
  },
  {
   "cell_type": "code",
   "execution_count": 39,
   "id": "b31873e8",
   "metadata": {},
   "outputs": [
    {
     "name": "stdout",
     "output_type": "stream",
     "text": [
      "ashfaq ahmed\n"
     ]
    }
   ],
   "source": [
    "print(fullname.lower())"
   ]
  },
  {
   "cell_type": "code",
   "execution_count": 40,
   "id": "4a7d1735",
   "metadata": {},
   "outputs": [
    {
     "name": "stdout",
     "output_type": "stream",
     "text": [
      "End of Day2_B79\n"
     ]
    }
   ],
   "source": [
    "name='End of Day2_B79'\n",
    "print(name)"
   ]
  },
  {
   "cell_type": "code",
   "execution_count": null,
   "id": "7a8605c9",
   "metadata": {},
   "outputs": [],
   "source": []
  }
 ],
 "metadata": {
  "kernelspec": {
   "display_name": "Python 3 (ipykernel)",
   "language": "python",
   "name": "python3"
  },
  "language_info": {
   "codemirror_mode": {
    "name": "ipython",
    "version": 3
   },
   "file_extension": ".py",
   "mimetype": "text/x-python",
   "name": "python",
   "nbconvert_exporter": "python",
   "pygments_lexer": "ipython3",
   "version": "3.10.9"
  }
 },
 "nbformat": 4,
 "nbformat_minor": 5
}
